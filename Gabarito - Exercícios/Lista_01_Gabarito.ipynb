{
  "cells": [
    {
      "cell_type": "markdown",
      "metadata": {
        "colab_type": "text",
        "id": "view-in-github"
      },
      "source": [
        "<a href=\"https://colab.research.google.com/github/diegomelocosta/Introducao-a-Python/blob/main/Lista_01_Gabarito.ipynb\" target=\"_parent\"><img src=\"https://colab.research.google.com/assets/colab-badge.svg\" alt=\"Open In Colab\"/></a>"
      ]
    },
    {
      "cell_type": "markdown",
      "metadata": {
        "id": "TUOeRk9LXmS-"
      },
      "source": [
        "Lista de Exercícios 01 - Nível introdutório"
      ]
    },
    {
      "cell_type": "markdown",
      "metadata": {},
      "source": [
        "1. Faça um programa que mostre a mensagem \"Alô mundo\" na tela."
      ]
    },
    {
      "cell_type": "code",
      "execution_count": null,
      "metadata": {},
      "outputs": [],
      "source": [
        "print('Alô, Mundo')"
      ]
    },
    {
      "cell_type": "markdown",
      "metadata": {},
      "source": [
        "2. Faça um Programa que peça um número (do teclado) e então mostre a mensagem (na tela): O número informado foi [número]."
      ]
    },
    {
      "cell_type": "code",
      "execution_count": null,
      "metadata": {},
      "outputs": [],
      "source": [
        "print('Digite um número')\n",
        "variavel_numero = input()\n",
        "print('O número informado foi', variavel_numero)"
      ]
    },
    {
      "cell_type": "markdown",
      "metadata": {
        "id": "8uB4NgMXcxFS"
      },
      "source": [
        "3. Vamos criar um algoritmo para ler uma variável e extrair o máximo de informações: É número? É alfabético? É alfanumérico? Está maiúscula? está minúscula ? Quantos caracteres possui?\n",
        "\n"
      ]
    },
    {
      "cell_type": "code",
      "execution_count": null,
      "metadata": {
        "id": "O-aqPirMKiDW"
      },
      "outputs": [],
      "source": [
        "print('Digite algo:')\n",
        "minha_variavel = input()\n",
        "#print('Foi digitado:', minha_variavel)\n",
        "print('Somente numeros: ',minha_variavel.isnumeric())\n",
        "print(\"Somente letras: \", minha_variavel.isalpha())\n",
        "print('Letra ou Número: ', minha_variavel.isalnum())\n",
        "print('Somente letras maiusculas - Upper: ', minha_variavel.isupper())\n",
        "print('Somente letras minusculo - lower: ', minha_variavel.islower())\n",
        "print('Caracteres - len: ', len(minha_variavel))\n",
        "print('Informações adicionais:')\n",
        "print('Tipo de variável: ', type(minha_variavel))\n",
        "print('Tem somente a primeira letra maiuscula: - title: ', minha_variavel.istitle())\n",
        "print('Tem somente espaços: ', minha_variavel.isspace())"
      ]
    },
    {
      "cell_type": "markdown",
      "metadata": {
        "id": "_c6CfDeqKRaF"
      },
      "source": [
        "4. Faça um programa que solicite seu nome, o dia do seu nascimento, o mês, o ano e imprima na tela a seguinte mensagem: Olá {nome}, você nasceu no dia {dia}, no {mês}º mês do ano, do ano de {ano}."
      ]
    },
    {
      "cell_type": "code",
      "execution_count": null,
      "metadata": {
        "id": "8ITdw5NuOXTt"
      },
      "outputs": [],
      "source": [
        "nome_q5 = input('Qual o seu nome? ')\n",
        "ano_de_nascimento = int(input('Qual o ano do seu nascimento? '))\n",
        "idade_atual = 2024 - ano_de_nascimento\n",
        "print('Olá', nome_q5,', você tem',idade_atual,'anos de idade.')\n",
        "print('Olá {}, você tem {} anos de idade.'.format(nome_q5,idade_atual))# Usando format"
      ]
    },
    {
      "cell_type": "markdown",
      "metadata": {},
      "source": [
        "\n",
        "5. Escreva um algoritmo que leia o seu nome e indique se você digitou somente a primeira letra maiúscula.\n"
      ]
    },
    {
      "cell_type": "code",
      "execution_count": null,
      "metadata": {},
      "outputs": [],
      "source": [
        "print('Digite seu nome')\n",
        "dado_nome = input()\n",
        "print(dado_nome.istitle())"
      ]
    },
    {
      "cell_type": "markdown",
      "metadata": {},
      "source": [
        "6. Faça um programa que solicite seu primeiro nome e mostre na tela quantas letras ele tem."
      ]
    },
    {
      "cell_type": "code",
      "execution_count": null,
      "metadata": {},
      "outputs": [],
      "source": [
        "nome_entrada = input('Digite seu primeiro nome:')\n",
        "quantidade_de_letras = len(nome_entrada)\n",
        "print(quantidade_de_letras)"
      ]
    },
    {
      "cell_type": "markdown",
      "metadata": {
        "id": "uoK0VA95n3ae"
      },
      "source": [
        "7. Escreva um algoritmo para ler um número inteiro (do teclado) e escrever (na tela) o seu antecessor.\n"
      ]
    },
    {
      "cell_type": "code",
      "execution_count": null,
      "metadata": {
        "id": "WwmVwyzEn5ra"
      },
      "outputs": [],
      "source": [
        "print('Digite um número inteiro')\n",
        "numero_inteiro = input()\n",
        "numero_inteiro = int(numero_inteiro)\n",
        "antecessor = numero_inteiro-1\n",
        "print('o antecessor é:',antecessor)"
      ]
    },
    {
      "cell_type": "markdown",
      "metadata": {
        "id": "IQ2RCxZBo1lx"
      },
      "source": [
        "8. Faça um algoritmo que leia dois números e imprima a soma deles.\n"
      ]
    },
    {
      "cell_type": "code",
      "execution_count": null,
      "metadata": {},
      "outputs": [],
      "source": [
        "numero_01 = int(input('Digite o 1º número'))\n",
        "numero_02 = int(input('Digite o 2º número'))\n",
        "soma= numero_01+numero_02\n",
        "print('O primeiro número digitado foi',numero_01)\n",
        "print('O segundo número digitado foi',numero_02)\n",
        "print('A soma dele vale:', soma)"
      ]
    },
    {
      "cell_type": "markdown",
      "metadata": {},
      "source": [
        "9 . Escreva um programa que leia um valor em metros e exiba convertido em centímetros e milímetros."
      ]
    },
    {
      "cell_type": "code",
      "execution_count": null,
      "metadata": {
        "id": "iAy6xTP9o3Wy"
      },
      "outputs": [],
      "source": [
        "valor_em_m = float(input('Digite o valor em metros'))\n",
        "print('Valor em centímeros:', valor_em_m*100)"
      ]
    },
    {
      "cell_type": "markdown",
      "metadata": {
        "id": "FiTagzwgKQ0V"
      },
      "source": [
        "10. Faça um programa que leia um número inteiro qualquer e mostre na tela a sua tabuada de multiplicação.\n"
      ]
    },
    {
      "cell_type": "code",
      "execution_count": null,
      "metadata": {
        "id": "xkScT-E8MkMF"
      },
      "outputs": [],
      "source": [
        "print('Digite um número e obtenha a sua tabuada')\n",
        "n = int(input('Digite um número:'))\n",
        "print(n,'x',\"0 = \", n*0)\n",
        "print(n,'x',\"1 = \", n*1)\n",
        "print(n,'x',\"2 = \", n*2)\n",
        "print(n,'x',\"3 = \", n*3)\n",
        "print(n,'x',\"4 = \", n*4)\n",
        "print(n,'x',\"5 = \", n*5)\n",
        "print(n,'x',\"6 = \", n*6)\n",
        "print(n,'x',\"7 = \", n*7)\n",
        "print(n,'x',\"8 = \", n*8)\n",
        "print(n,'x',\"9 = \", n*9)\n",
        "print(n,'x',\"10 =\", n*10)"
      ]
    }
  ],
  "metadata": {
    "colab": {
      "authorship_tag": "ABX9TyNhouoNnPcNNEsae0sKAvK+",
      "include_colab_link": true,
      "provenance": []
    },
    "kernelspec": {
      "display_name": "Python 3",
      "name": "python3"
    },
    "language_info": {
      "codemirror_mode": {
        "name": "ipython",
        "version": 3
      },
      "file_extension": ".py",
      "mimetype": "text/x-python",
      "name": "python",
      "nbconvert_exporter": "python",
      "pygments_lexer": "ipython3",
      "version": "3.12.0"
    }
  },
  "nbformat": 4,
  "nbformat_minor": 0
}
