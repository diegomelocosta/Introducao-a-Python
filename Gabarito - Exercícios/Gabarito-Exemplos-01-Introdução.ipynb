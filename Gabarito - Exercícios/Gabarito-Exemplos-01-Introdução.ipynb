{
 "cells": [
  {
   "cell_type": "markdown",
   "metadata": {},
   "source": [
    "**Exemplos**"
   ]
  },
  {
   "cell_type": "markdown",
   "metadata": {},
   "source": [
    "\n",
    "**Exemplos**: Faça um algoritmo que solicite seu nome e o seu ano de nascimento, calcule e mostre quantos anos você completou ou completará esse ano?"
   ]
  },
  {
   "cell_type": "code",
   "execution_count": null,
   "metadata": {},
   "outputs": [],
   "source": [
    "nome = input('Qual o seu nome?')\n",
    "ano_nascimento = int(input('Qual o seu ano de nascimento?'))\n",
    "ano_atual = int(input('Qual o ano atual'))\n",
    "print('Você completou ou completará esse ano:',ano_atual-ano_nascimento,' anos!')"
   ]
  },
  {
   "cell_type": "markdown",
   "metadata": {},
   "source": [
    "**Exemplos**: Faça um algoritmo que solicite seu nome e o seu ano de nascimento, calcule e mostre a sua idade na tela a seguinte mensagem: Olá [nome], você tem [idade] anos de idade"
   ]
  },
  {
   "cell_type": "code",
   "execution_count": null,
   "metadata": {},
   "outputs": [],
   "source": [
    "import datetime as dt\n",
    "\n",
    "nome = input('Qual o seu nome?')\n",
    "ano_nascimento = int(input('Qual o seu ano de nascimento?'))\n",
    "ano_atual = int(input('Qual o ano atual'))\n",
    "#Poderiamos usa uma biblioteca !!! O módulo datetime fornece as classes para manipulação de datas e horas.\n",
    "#data_atual = dt.date.today()\n",
    "#ano_atual = data_atual.year\n",
    "print(f'Olá {nome}, você completou ou completará esse ano {ano_atual-ano_nascimento} anos de idade!')"
   ]
  },
  {
   "cell_type": "markdown",
   "metadata": {},
   "source": [
    "**Exemplos**: Faça um algoritmo que calcule a média de um aluno com base nas seus três notas na disciplina de Matemática. Em seguida apresente a média dele com duas casas decimais."
   ]
  },
  {
   "cell_type": "code",
   "execution_count": null,
   "metadata": {},
   "outputs": [],
   "source": [
    "print('Calculo de Média')\n",
    "nota_01 = float(input('Digite a 1ª nota:'))\n",
    "nota_02 = float(input('Digite a 2ª nota:'))\n",
    "nota_03 = float(input('Digite a 3ª nota:'))\n",
    "print('As notas digitadas foram:',nota_01,nota_02,nota_03)\n",
    "soma = nota_01 + nota_02+ nota_03\n",
    "media = soma / 3\n",
    "print('A media foi:', media)\n",
    "print('A sua primeira nota foi',nota_01,\n",
    "      ', a sua segunda nota foi',nota_02,\n",
    "      ', a sua terceira nota foi',nota_03)\n",
    "print('A sua primeira nota foi {}, '\n",
    "      'a sua segunda nota foi {}, '\n",
    "      'a sua terceira nota {}. '\n",
    "      'A sua média foi {:.2f}'.format(nota_01,nota_02,nota_03,media)) #Existem várias maneiras de se formatar strings em Python"
   ]
  },
  {
   "cell_type": "markdown",
   "metadata": {},
   "source": [
    "**Exemplos**: Faça um algoritmo que leia um número inteiro e determine seu antecessor e seu sucessor."
   ]
  },
  {
   "cell_type": "code",
   "execution_count": null,
   "metadata": {},
   "outputs": [],
   "source": [
    "numero = int(input('Digite um número inteiro: '))\n",
    "antecessor = numero - 1\n",
    "sucessor = numero + 1\n",
    "print(f'O número digitado foi {numero}. Seu antecessor é {antecessor} e seu sucessor é {sucessor}.')"
   ]
  },
  {
   "cell_type": "markdown",
   "metadata": {},
   "source": [
    "**Exemplos**: Faça um algoritmo que leia um número e determine seu dobro, triplo e sua raiz quadrada."
   ]
  },
  {
   "cell_type": "code",
   "execution_count": null,
   "metadata": {},
   "outputs": [],
   "source": [
    "numero = int(input('Digite um número inteiro: '))\n",
    "print(f'O número digitado foi {numero}. Seu dobro é {2*numero}, seu triplo é {3*numero} e sua raiz quadrada {numero**(1/2):.3}')"
   ]
  },
  {
   "cell_type": "markdown",
   "metadata": {},
   "source": [
    "**Exemplos**: Tendo como dado de entrada a altura (h) de uma pessoa, construa um algoritmo que calcule seu peso ideal, utilizando as seguintes fórmulas:\n",
    "Para homens: (72.7*h) - 58\n",
    "Para mulheres: (62.1*h) - 44.7\n"
   ]
  }
 ],
 "metadata": {
  "kernelspec": {
   "display_name": "Python 3 (ipykernel)",
   "language": "python",
   "name": "python3"
  },
  "language_info": {
   "codemirror_mode": {
    "name": "ipython",
    "version": 3
   },
   "file_extension": ".py",
   "mimetype": "text/x-python",
   "name": "python",
   "nbconvert_exporter": "python",
   "pygments_lexer": "ipython3",
   "version": "3.12.3"
  }
 },
 "nbformat": 4,
 "nbformat_minor": 2
}
