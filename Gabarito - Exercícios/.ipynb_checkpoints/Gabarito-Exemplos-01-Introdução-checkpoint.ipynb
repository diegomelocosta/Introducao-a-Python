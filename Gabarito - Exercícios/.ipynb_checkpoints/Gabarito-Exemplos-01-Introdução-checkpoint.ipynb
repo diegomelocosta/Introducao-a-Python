{
 "cells": [
  {
   "cell_type": "markdown",
   "metadata": {},
   "source": [
    "**Exemplos**"
   ]
  },
  {
   "cell_type": "markdown",
   "metadata": {},
   "source": [
    "\n",
    "**Exemplos**: Faça um algoritmo que solicite seu nome e o seu ano de nascimento, calcule e mostre quantos anos você completou ou completará esse ano?"
   ]
  },
  {
   "cell_type": "code",
   "execution_count": 7,
   "metadata": {},
   "outputs": [
    {
     "name": "stdout",
     "output_type": "stream",
     "text": [
      "Qual o seu nome?1985\n",
      "Qual o seu ano de nascimento?1985\n",
      "Qual o ano atual2024\n",
      "Você completou ou completará esse ano: 39  anos!\n"
     ]
    }
   ],
   "source": [
    "import datetime as dt\n",
    "\n",
    "nome = input('Qual o seu nome?')\n",
    "ano_nascimento = int(input('Qual o seu ano de nascimento?'))\n",
    "ano_atual = int(input('Qual o ano atual'))\n",
    "#Poderiamos usa uma biblioteca !!! O módulo datetime fornece as classes para manipulação de datas e horas.\n",
    "#data_atual = dt.date.today()\n",
    "#ano_atual = data_atual.year\n",
    "print('Você completou ou completará esse ano:',ano_atual-ano_nascimento,' anos!')\n"
   ]
  },
  {
   "cell_type": "code",
   "execution_count": null,
   "metadata": {},
   "outputs": [],
   "source": [
    "\n",
    "ano_atual = datetime.date.year()\n",
    "print(f'Ano atual {ano_atual}')"
   ]
  },
  {
   "cell_type": "markdown",
   "metadata": {},
   "source": [
    "**Exemplos**: Faça um algoritmo que solicite seu nome e o seu ano de nascimento, calcule e mostre a sua idade na tela a seguinte mensagem: Olá [nome], você tem [idade] anos de idade"
   ]
  },
  {
   "cell_type": "code",
   "execution_count": null,
   "metadata": {},
   "outputs": [],
   "source": []
  },
  {
   "cell_type": "markdown",
   "metadata": {},
   "source": [
    "**Exemplos**: Faça um algoritmo que calcule a média de um aluno com base nas seus três notas na disciplina de Matemática. Em seguida apresente a média dele com duas casas decimais."
   ]
  },
  {
   "cell_type": "markdown",
   "metadata": {},
   "source": [
    "**Exemplos**: Faça um algoritmo que leia um número e determine seu antecessor e seu sucessor."
   ]
  },
  {
   "cell_type": "markdown",
   "metadata": {},
   "source": [
    "**Exemplos**: Faça um algoritmo que leia um número e determine seu dobro, triplo e sua raiz quadrada."
   ]
  },
  {
   "cell_type": "markdown",
   "metadata": {},
   "source": [
    "**Exemplos**: Tendo como dado de entrada a altura (h) de uma pessoa, construa um algoritmo que calcule seu peso ideal, utilizando as seguintes fórmulas:\n",
    "Para homens: (72.7*h) - 58\n",
    "Para mulheres: (62.1*h) - 44.7\n"
   ]
  }
 ],
 "metadata": {
  "kernelspec": {
   "display_name": "Python 3 (ipykernel)",
   "language": "python",
   "name": "python3"
  },
  "language_info": {
   "codemirror_mode": {
    "name": "ipython",
    "version": 3
   },
   "file_extension": ".py",
   "mimetype": "text/x-python",
   "name": "python",
   "nbconvert_exporter": "python",
   "pygments_lexer": "ipython3",
   "version": "3.11.5"
  }
 },
 "nbformat": 4,
 "nbformat_minor": 2
}
