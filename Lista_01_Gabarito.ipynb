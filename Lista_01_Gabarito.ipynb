{
  "nbformat": 4,
  "nbformat_minor": 0,
  "metadata": {
    "colab": {
      "provenance": [],
      "authorship_tag": "ABX9TyN1j8K/nUcqeHNwBRw3RvKT",
      "include_colab_link": true
    },
    "kernelspec": {
      "name": "python3",
      "display_name": "Python 3"
    },
    "language_info": {
      "name": "python"
    }
  },
  "cells": [
    {
      "cell_type": "markdown",
      "metadata": {
        "id": "view-in-github",
        "colab_type": "text"
      },
      "source": [
        "<a href=\"https://colab.research.google.com/github/diegomelocosta/Introducao-a-Python/blob/main/Lista_01_Gabarito.ipynb\" target=\"_parent\"><img src=\"https://colab.research.google.com/assets/colab-badge.svg\" alt=\"Open In Colab\"/></a>"
      ]
    },
    {
      "cell_type": "markdown",
      "source": [
        "Lista de Exercícios - Nível introdutório"
      ],
      "metadata": {
        "id": "TUOeRk9LXmS-"
      }
    },
    {
      "cell_type": "markdown",
      "source": [
        "1. Vamos criar um algoritmo para ler uma variável e extrair o máximo de informações: É número? É alfabético? É alfanumérico? Está maiúscula? está minúscula ? Quantos caracteres possui?\n",
        "\n"
      ],
      "metadata": {
        "id": "8uB4NgMXcxFS"
      }
    },
    {
      "cell_type": "code",
      "source": [
        "print('Digite algo:')\n",
        "minha_variavel = input()\n",
        "#print('Foi digitado:', minha_variavel)\n",
        "print('Somente numeros: ',minha_variavel.isnumeric())\n",
        "print(\"Somente letras: \", minha_variavel.isalpha())\n",
        "print('Letra ou Número: ', minha_variavel.isalnum())\n",
        "print('Somente letras maiusculas - Upper: ', minha_variavel.isupper())\n",
        "print('Somente letras minusculo - lower: ', minha_variavel.islower())\n",
        "print('Caracteres - len: ', len(minha_variavel))\n",
        "print('Informações adicionais:')\n",
        "print('Tipo de variável: ', type(minha_variavel))\n",
        "print('Tem a primeira letra maiuscula: - title: ', minha_variavel.istitle())\n",
        "print('Tem somente espaços: ', minha_variavel.isspace())"
      ],
      "metadata": {
        "id": "O-aqPirMKiDW"
      },
      "execution_count": null,
      "outputs": []
    },
    {
      "cell_type": "markdown",
      "source": [
        "2. Faça um algoritmo que leia seu nome e duas notas de avaliação. Imprima na tela seu nome e a sua média.\n"
      ],
      "metadata": {
        "id": "FiTagzwgKQ0V"
      }
    },
    {
      "cell_type": "code",
      "source": [
        "print('Digite seu nome:')\n",
        "nome = input()\n",
        "print('Notas de Avaliação: Quais foram suas notas?')\n",
        "nota_01 = float(input('Digite o primeiro número'))#Imprime, recebe e atribui a variável x\n",
        "nota_02 = float(input('Digite o segundo número'))\n",
        "soma = nota_01 + nota_02\n",
        "media = soma/2\n",
        "print(nome,'a sua média foi:',media)"
      ],
      "metadata": {
        "id": "UEs1P_4LLScY"
      },
      "execution_count": null,
      "outputs": []
    },
    {
      "cell_type": "markdown",
      "source": [
        "3. Escreva um programa que leia um valor em metros e exiba convertido em centímetros e milímetros.\n",
        "\n"
      ],
      "metadata": {
        "id": "YvjZKUaNKREi"
      }
    },
    {
      "cell_type": "code",
      "source": [
        "print('Digite o valor em metros (Exemplo: 1.47)')\n",
        "valor_em_m = float(input())\n",
        "valor_em_cm = 100*valor_em_m\n",
        "valor_em_mm = 1000*valor_em_m\n",
        "print('Valor em centímetro: ', valor_em_cm)\n",
        "print('Valor em milímetros: ', valor_em_mm)"
      ],
      "metadata": {
        "id": "-_SeB9SZMDPk"
      },
      "execution_count": null,
      "outputs": []
    },
    {
      "cell_type": "markdown",
      "source": [
        "4. Faça um programa que leia um número inteiro qualquer e mostre na tela a sua tabuada de multiplicação.\n",
        "\n"
      ],
      "metadata": {
        "id": "P6KRQ5VMKRP0"
      }
    },
    {
      "cell_type": "code",
      "source": [
        "print('Digite um número e obtenha a sua tabuada')\n",
        "n = int(input('Digite um número:'))\n",
        "print(n,'x',\"0 = \", n*0)\n",
        "print(n,'x',\"1 = \", n*1)\n",
        "print(n,'x',\"2 = \", n*2)\n",
        "print(n,'x',\"3 = \", n*3)\n",
        "print(n,'x',\"4 = \", n*4)\n",
        "print(n,'x',\"5 = \", n*5)\n",
        "print(n,'x',\"6 = \", n*6)\n",
        "print(n,'x',\"7 = \", n*7)\n",
        "print(n,'x',\"8 = \", n*8)\n",
        "print(n,'x',\"9 = \", n*9)\n",
        "print(n,'x',\"10 =\", n*10)"
      ],
      "metadata": {
        "id": "xkScT-E8MkMF"
      },
      "execution_count": null,
      "outputs": []
    },
    {
      "cell_type": "markdown",
      "source": [
        "5. Faça um programa que solicite seu nome, o dia do seu nascimento, o mês, o ano e imprima na tela a seguinte mensagem: Olá {nome}, você nasceu no ano de {ano}, no {mês}º mês do ano no dia {dia}.\n",
        "\n"
      ],
      "metadata": {
        "id": "_c6CfDeqKRaF"
      }
    },
    {
      "cell_type": "code",
      "source": [
        "nome_q5 = input('Qual o seu nome? ')\n",
        "ano_de_nascimento = int(input('Qual o ano do seu nascimento? '))\n",
        "idade_atual = 2024 - ano_de_nascimento\n",
        "print('Olá', nome_q5,', você tem',idade_atual,'anos de idade.')\n",
        "print('Olá {}, você tem {} anos de idade.'.format(nome_q5,idade_atual))# Usando format"
      ],
      "metadata": {
        "id": "8ITdw5NuOXTt"
      },
      "execution_count": null,
      "outputs": []
    }
  ]
}