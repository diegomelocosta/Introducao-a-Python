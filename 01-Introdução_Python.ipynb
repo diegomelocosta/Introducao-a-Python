{
  "cells": [
    {
      "cell_type": "markdown",
      "metadata": {
        "id": "-O7ZWRbIdkcN"
      },
      "source": [
        "**O que é Python e para que serve?**\n",
        "\n",
        "Python é uma linguagem de programação de uso geral. Isso significa que é uma linguagem que funciona para criar uma grande variedade de aplicações diferentes. Ou seja, o Python é uma linguagem geral, que não é especializada em nenhum problema específico. Diante dessa versatilidade e a facilidade de uso para pessoas iniciantes, fez com que se tornasse uma das linguagens mais comuns atualmente.\n",
        "\n",
        "**Exemplos de utilização**\n",
        "\n",
        "**Desenvolvimento Web**: a linguagem pode ser utilizada na construção de simples páginas da internet até a robustos softwares;\n",
        "Desenvolvimento de jogos: o Python é uma das linguagens favoritas dos desenvolvedores de games por mostrar resultados sofisticados com simplicidade;\n",
        "\n",
        "**Big Data**: a forte capacidade de análise, processamento e exibição de dados do Python, além da sua facilidade de uso por diversos profissionais, o tornam um grande aliado ao Big Data;\n",
        "\n",
        "**Inteligência Artificial**: os algoritmos do Google são uma das aplicações de IA mais famosas que utilizam o Python. Para uso em Inteligência Artificial, a linguagem possui diversas bibliotecas voltadas para o segmento como Keras, NumPy e NLTK;\n",
        "\n",
        "**Ciência de Dados**: o Python é popular entre cientistas por ser simples de usar e pela sua familiaridade com dados; além disso, a sua ferramenta Jupyter-Notebook agiliza e facilita o fluxo de trabalho desta área."
      ]
    },
    {
      "cell_type": "markdown",
      "metadata": {
        "id": "l6OMMtWw_7oo"
      },
      "source": [
        "O que é **IDE:** (Ambiente de desenvolvimento integrado)?\n",
        "\n",
        "**IDE** (**Integrated Development Environment**)\n",
        "\n",
        "A sigla IDE significa (Integrated Development Environment). Um ambiente de desenvolvimento integrado (IDE) é um software para criar aplicações que combina ferramentas comuns de desenvolvedor em uma única interface de usuário gráfica (GUI). Um IDE geralmente consiste em:\n",
        "\n",
        "**Editor de código-fonte**: é um editor de texto que auxilia na criação de código de software por meio de funcionalidades como destaque da sintaxe com indicadores visuais, recurso de preenchimento automático específico da linguagem e verificação de bugs durante o desenvolvimento.\n",
        "\n",
        "**Automação de compilação local**: são utilitários que automatizam tarefas simples e repetíveis durante a criação de uma compilação local do software usada pelo desenvolvedor. São tarefas como compilação de código-fonte em código binário, criação de pacotes de código binário e execução de testes automatizados.\n",
        "\n",
        "**Debugger**: é um programa usado para testar outros programas e mostrar graficamente a localização do bug no código original."
      ]
    },
    {
      "cell_type": "markdown",
      "metadata": {
        "id": "J6osU6KTAW5-"
      },
      "source": [
        "**Por que desenvolvedores usam IDEs?**\n",
        "\n",
        "IDEs ajudam os desenvolvedores a programar novas aplicações de forma rápida, já que os vários utilitários não precisam ser ajustados e integrados manualmente durante a configuração. Os desenvolvedores também não precisam passar horas aprendendo a usar cada uma das diferentes ferramentas, porque cada utilitário está localizado no mesmo workbench. **Isso é especialmente útil quando os desenvolvedores são novos no projeto**. Eles podem contar com o IDE para se atualizar em relação às ferramentas e fluxos de trabalho da equipe.\n",
        "\n",
        "Na verdade, o objetivo da maior parte das funcionalidades é **economizar tempo**: o preenchimento inteligente e a geração automática de código, por exemplo, eliminam a necessidade de digitar sequências inteiras.\n",
        "\n",
        "Atualmente, a maioria das equipes de desenvolvimento de software empresarial escolhe o IDE pré-configurado que melhor serve ao seu caso de uso. **A questão, portanto, não é decidir usar ou não um IDE, e sim qual usar**."
      ]
    },
    {
      "cell_type": "markdown",
      "metadata": {
        "id": "s41Eq8vLBZK1"
      },
      "source": [
        "**IDEs para programação em Python**\n",
        "\n",
        "*  [IDLE](https://docs.python.org/3/library/idle.html)\n",
        "*  [Jupyter Notebook](https://www.anaconda.com/)\n",
        "*  [PyCharm](https://www.jetbrains.com/pt-br/pycharm//)\n",
        "*  [Visual Studio Code (VS Code)](https://code.visualstudio.com//)\n",
        "*  [Spyder](https://www.spyder-ide.org/)\n",
        "*  [Google Colab](https://https://colab.research.google.com/)\n",
        "\n",
        "**Google Colab**\n",
        "\n",
        "O Google Colab é uma ferramenta criada pela Google que permite que qualquer pessoa consiga produzir e rodar desde os notebooks IPython (.ipynb) mais simples até treinar um modelo de deep learning mesmo sem possuir uma GPU. É só usar sua conta Google. Esse serviço de nuvem hospedado pelo próprio Google é gratuito e tem como objetivo incentivar a pesquisa de machine learning e inteligência artificial.\n",
        "\n",
        "Esse materia foi criado utilizando o Google Colab. Você pode misturar código fonte, texto rico, imagens e o resultado desse código. É a técnica notebook, semelhante ao Jupyter. \n",
        "\n",
        "Vamos trabalhar com ele..."
      ]
    },
    {
      "cell_type": "markdown",
      "metadata": {
        "id": "YTgvwGXYadpA"
      },
      "source": [
        "O interpretador do Python possui várias funções e tipos embutidos que sempre estão disponíveis. A seguir são listadas algumas das funções que deremos mais atenção nesse processo de introdução a programação.\n",
        "\n",
        "\n",
        "*   input()\n",
        "*   print()\n",
        "*   type()\n",
        "\n",
        "\n",
        "\n",
        "[Todas as funções acesse:](https://docs.python.org/pt-br/3/library/functions.html)\n",
        "\n",
        "\n"
      ]
    },
    {
      "cell_type": "code",
      "execution_count": null,
      "metadata": {
        "id": "07UUnZ7PRLI6"
      },
      "outputs": [],
      "source": [
        "print('Olá ! Vamor interagir ?')\n",
        "print('Olá ! Eu sou X e irei te ajudar !')"
      ]
    },
    {
      "cell_type": "code",
      "execution_count": null,
      "metadata": {
        "id": "945giDWyTIkI"
      },
      "outputs": [],
      "source": [
        "print('Exemplo de como eu sei trabalhar !!!')\n",
        "print('Soma de dois números : Exemplo 10 e 15')\n",
        "x = 10 # O valor 10 foi atribuido a variável x\n",
        "y = 15 # O valor 15 foi atribuido a variável x\n",
        "soma = x + y\n",
        "print(soma)"
      ]
    },
    {
      "cell_type": "code",
      "execution_count": null,
      "metadata": {
        "id": "BBOWt87QW1bf"
      },
      "outputs": [],
      "source": [
        "#Questão 1:\n",
        "nomeDoUsuario = input(\"Informe seu nome: \")\n",
        "anoAtual = int(input(\"Ano atual: \"))\n",
        "anoNascimento = int(input(\"Ano de Nascimento: \"))\n",
        "\n",
        "x = anoAtual - anoNascimento\n",
        "print('idade: ', x)\n",
        "\n",
        "#Olá [nome], você tem [idade] anos de idade\n"
      ]
    },
    {
      "cell_type": "code",
      "execution_count": null,
      "metadata": {
        "id": "0x7uuFHkaETA"
      },
      "outputs": [],
      "source": [
        "#Questão 2\n",
        "nomeDoUsuario = input(\"Informe seu nome: \")\n",
        "anoAtual = int(input(\"Ano atual: \"))\n",
        "anoNascimento = int(input(\"Ano de Nascimento: \"))\n",
        "\n",
        "x = anoAtual - anoNascimento\n",
        "print('Olá ', nomeDoUsuario, 'você tem ', x, 'anos de idade')\n",
        "print('Olá ', nomeDoUsuario)\n",
        "#Olá [nome], você tem [idade] anos de idade"
      ]
    },
    {
      "cell_type": "code",
      "execution_count": null,
      "metadata": {
        "id": "DpYOYQUvSABo"
      },
      "outputs": [],
      "source": [
        "#Chamando uma entrada de valor\n",
        "print('Seja bem-vindo ao meu primeiro programa')\n",
        "print('Como é seu Nome?') \n",
        "nome = input() # Seu nome será armazenado na varável nome."
      ]
    },
    {
      "cell_type": "markdown",
      "metadata": {
        "id": "8OCFuZdO0xuM"
      },
      "source": [
        "**Principais funções para manipulação de strings em Python**\n",
        "\n",
        "Os dados textuais em Python são tratados com objetos str, ou strings. Strings são sequências imutáveis de pontos de código Unicode.\n",
        "\n",
        "Python possui uma ampla gama de Métodos de string embutidas que facilitam a manipulação de strings. Segue algumas: São utilizadas como *srt*.método.\n",
        "\n",
        "*   capitalize() Retorna uma cópia da string com o seu primeiro caractere em maiúsculo e o restante em minúsculo.\n",
        "*   len(): Retorna o comprimento de uma string.\n",
        "*   lower(): Converte uma string para minúsculas.\n",
        "*   islower(): Retorna **True** se todos os caracteres em caixa (que possuem maiúsculo e minúsculo) na string são minúsculos e **False** caso contrário.\n",
        "*   upper(): Converte uma string para maiúsculas.\n",
        "*   isupper()\n",
        "*   strip(): Remove espaços em branco do início e do final de uma string.\n",
        "*   split(): Divide uma string em uma lista de substrings com base em um *   *   caractere delimitador.\n",
        "*   join(): Concatena uma lista de strings em uma única string usando um separador"
      ]
    },
    {
      "cell_type": "markdown",
      "metadata": {
        "id": "RWfVNxyW4l28"
      },
      "source": [
        "\n",
        "Normalmente, um método é chamado imediatamente após ser referenciado:"
      ]
    },
    {
      "cell_type": "code",
      "execution_count": null,
      "metadata": {
        "id": "TwpctmW8SuQT"
      },
      "outputs": [],
      "source": [
        "print('Seja bem-vindo ao meu primeiro programa')\n",
        "nome = input('Como é seu nome ?')\n",
        "print(nome)"
      ]
    },
    {
      "cell_type": "code",
      "execution_count": null,
      "metadata": {
        "id": "JoUuIzYw2fdz"
      },
      "outputs": [],
      "source": [
        "print('Seja bem-vindo ao meu primeiro programa')\n",
        "nome = input('Como é seu nome ?')\n",
        "#nome = nome.upper()\n",
        "nome = nome.capitalize()\n",
        "print(nome)"
      ]
    },
    {
      "cell_type": "code",
      "execution_count": null,
      "metadata": {
        "id": "buQ_lYW7SX24"
      },
      "outputs": [],
      "source": [
        "print('Seja bem-vindo ao meu primeiro programa')\n",
        "nome = input('Como é seu nome ? ')\n",
        "idade = input(\"Qual a sua idade? \")\n",
        "print('Nome só constra letra?', nome.isalpha())\n",
        "print('idade só constra número?', idade.isnum())"
      ]
    },
    {
      "cell_type": "code",
      "execution_count": null,
      "metadata": {
        "id": "1WQCf4m7UFb_"
      },
      "outputs": [],
      "source": [
        "print('Seja bem-vindo ao meu primeiro programa')\n",
        "nome = input('Como é seu nome ?')\n",
        "print(nome)\n",
        "print('Olá, ',nome,'! Prazer te conhecer.')"
      ]
    },
    {
      "cell_type": "code",
      "execution_count": null,
      "metadata": {
        "id": "vcPDpwFomCrp"
      },
      "outputs": [],
      "source": [
        "#Dissecando uma Variável - Objeto // Explorando os Métodos\n",
        "print('Digite algo:')\n",
        "minha_variavel = input()\n",
        "print('Foi digitado:', minha_variavel)\n",
        "print('Tipo de variável: ', type(minha_variavel))\n",
        "print('Somente numeros: ',minha_variavel.isnumeric())\n",
        "print(\"Somente letras: \", minha_variavel.isalpha())\n",
        "print('Letra ou Número: ', minha_variavel.isalnum())\n",
        "print('Minusculo - Upper: ', minha_variavel.isupper())\n",
        "print('Minusculo - lower: ', minha_variavel.islower())\n",
        "print('Tem a primeira letra maiuscula: - title: ', minha_variavel.istitle())\n",
        "print('Tem somente espaços: ', minha_variavel.isspace())\n",
        "print('Caracteres - len: ', len(minha_variavel))\n"
      ]
    },
    {
      "cell_type": "markdown",
      "metadata": {
        "id": "jbqSQ_ewfNWn"
      },
      "source": [
        "# **Quais são os tipos de dados em Python?**\n",
        "\n",
        " **Python** é uma linguagem dinamicamente tipada, o que significa que não é necessário declarar o tipo de variável ou fazer casting (mudar o tipo de variável), pois o Interpretador se encarrega disso para nós.\n",
        "\n",
        "Isso significa também que, se por algum motivo precisarmos alterar o tipo de variável durante a execução do programa, é possível fazer essa mudança.\n",
        "\n",
        "Os **tipos de dados** padrão do Python são:\n",
        "\n",
        "* String (**str**); Exemplo: hello\n",
        "* Inteiro (**int**); Exemplo: 1\n",
        "* Ponto Flutuante ou Decimal (**float**); Exemplo: 1.1\n",
        "* Tipo Complexo (**complex**); Exemplo: 8j\n",
        "* Boolean (**bool**); Exemplo: true / false\n",
        "* Lista (**list**); Exemplo: ['Mônica', 'Ana', 'Bruno', 'Alice']\n",
        "* Tupla**Tuple**; Exemplo: (90, 79, 54, 32, 21)\n",
        "* Dictionary (**dic**); Exemplo: {'Camila': 1.65, 'Larissa': 1.60, 'Guilherme': 1.70}\n",
        "\n",
        "Maiores detalhes, consulte o guia **Estrutura de dados**"
      ]
    },
    {
      "cell_type": "markdown",
      "metadata": {
        "id": "4MBXJeUWg-L9"
      },
      "source": [
        "# **Como converter string para números**\n",
        "\n",
        "Existem três tipos numéricos distintos: inteiros, números de ponto flutuante e números complexos. Os construtores int(), float(), e complex() podem ser usados para produzir números de um tipo específico.\n",
        "\n",
        "Consirere uma situação onde você recebe um número em formato de string. Uma forma fácil de fazer isso é com a função **input**,como vimos até aqui!!! Sabameos que a função recebe um dado passado de um usuário do tipo string e atribui em uma variável. Para converter esta string em int, podemos utilizar uma função chamada int\n",
        "\n",
        "Inciaialmente vamos confimar no usuário! Ele digitará um número. Porém, seguiremos lembrando que é sempre bom tratar o dado antes de aplicar alguma lógica, para garantir que aquela string realmente seja um inteiro e não gerar erros.\n",
        "\n",
        "Python suporta completamente aritmética mista: quando um operador de aritmética binária tem operandos de tipos numéricos diferentes, o operando com o tipo “mais estreito” é ampliado para o tipo do outro operando, onde um inteiro é mais estreito do que um ponto flutuante, que por sua vez é mais estreito que um número complexo"
      ]
    },
    {
      "cell_type": "markdown",
      "metadata": {
        "id": "7wQIyTG0Go8a"
      },
      "source": [
        "\n",
        "**Operadores Matemáticos**\n",
        "\n",
        "1. Adição (+)\n",
        "2. Subtração (-)\n",
        "3. Multiplicação (*)\n",
        "4. Divisão (/)\n",
        "5. Potência (**)\n",
        "6. Divisão Inteira (//)\n",
        "7. Resto da divisão (%)\n",
        "\n"
      ]
    },
    {
      "cell_type": "code",
      "execution_count": null,
      "metadata": {
        "id": "MaQxVaJDi6bT"
      },
      "outputs": [],
      "source": [
        "numeroEmString = input (\"Digite um número \")\n",
        "print(type(numeroEmString))\n",
        "numero = int(numeroEmString)\n",
        "print(type(numero))"
      ]
    },
    {
      "cell_type": "code",
      "execution_count": null,
      "metadata": {
        "id": "aDcmoSYoTrE0"
      },
      "outputs": [],
      "source": [
        "print('Exemplo de como eu sei trabalhar manipulando dados !!!')\n",
        "print('Soma de dois números: Quais números deseja somar')\n",
        "x = int(input('Digite o primeiro número'))\n",
        "y = int(input('Digite o segundo número'))\n",
        "soma = x + y\n",
        "print(soma)"
      ]
    },
    {
      "cell_type": "code",
      "execution_count": null,
      "metadata": {
        "colab": {
          "background_save": true
        },
        "id": "gCM0S3QRUXRl"
      },
      "outputs": [],
      "source": [
        "print('Exemplo de como eu sei trabalhar manipulando dados !!!')\n",
        "print('Soma de dois números: Quais números deseja somar')\n",
        "x = int(input('Digite o primeiro número'))\n",
        "y = int(input('Digite o segundo número'))\n",
        "soma = x + y\n",
        "print(soma)"
      ]
    },
    {
      "cell_type": "code",
      "execution_count": null,
      "metadata": {
        "id": "zPQQSmH-Ui44"
      },
      "outputs": [],
      "source": [
        "print('Exemplo de como eu sei trabalhar manipulando dados !!!')\n",
        "print('Soma de dois números: Quais números deseja somar')\n",
        "x = float(input('Digite o primeiro número'))\n",
        "y = float(input('Digite o segundo número'))\n",
        "soma = x + y\n",
        "print(soma)"
      ]
    },
    {
      "cell_type": "markdown",
      "metadata": {
        "id": "6oM-eguvHZ_Q"
      },
      "source": [
        "**Exemplos**"
      ]
    },
    {
      "cell_type": "markdown",
      "metadata": {
        "id": "tcptz-2hBQNy"
      },
      "source": [
        "\n",
        "**Exemplos**: Faça um algoritmo que solicite seu nome e o seu ano de nascimento, calcule e mostre quantos anos você completou ou completará esse ano?"
      ]
    },
    {
      "cell_type": "markdown",
      "metadata": {
        "id": "hNhC3SpbCB_Z"
      },
      "source": [
        "**Exemplos**: Faça um algoritmo que solicite seu nome e o seu ano de nascimento, calcule e mostre a sua idade na tela a seguinte mensagem: Olá [nome], você tem [idade] anos de idade"
      ]
    },
    {
      "cell_type": "markdown",
      "metadata": {
        "id": "f8cxBNLLHvI8"
      },
      "source": [
        "**Exemplos**: Faça um algoritmo que calcule a média de um aluno com base nas seus três notas na disciplina de Matemática. Em seguida apresente a média dele com duas casas decimais."
      ]
    },
    {
      "cell_type": "markdown",
      "metadata": {
        "id": "0_lW9qwzLQJC"
      },
      "source": [
        "**Exemplos**: Faça um algoritmo que leia um número e determine seu antecessor e seu sucessor."
      ]
    },
    {
      "cell_type": "markdown",
      "metadata": {
        "id": "-o1HHS1mLfty"
      },
      "source": [
        "**Exemplos**: Faça um algoritmo que leia um número e determine seu dobro, triplo e sua raiz quadrada."
      ]
    },
    {
      "cell_type": "markdown",
      "metadata": {
        "id": "FWvqs3hKmAmy"
      },
      "source": [
        "**Exemplos**: Tendo como dado de entrada a altura (h) de uma pessoa, construa um algoritmo que calcule seu peso ideal, utilizando as seguintes fórmulas:\n",
        "Para homens: (72.7*h) - 58\n",
        "Para mulheres: (62.1*h) - 44.7\n"
      ]
    }
  ],
  "metadata": {
    "colab": {
      "provenance": []
    },
    "kernelspec": {
      "display_name": "Python 3",
      "name": "python3"
    },
    "language_info": {
      "codemirror_mode": {
        "name": "ipython",
        "version": 3
      },
      "file_extension": ".py",
      "mimetype": "text/x-python",
      "name": "python",
      "nbconvert_exporter": "python",
      "pygments_lexer": "ipython3",
      "version": "3.12.0"
    }
  },
  "nbformat": 4,
  "nbformat_minor": 0
}
